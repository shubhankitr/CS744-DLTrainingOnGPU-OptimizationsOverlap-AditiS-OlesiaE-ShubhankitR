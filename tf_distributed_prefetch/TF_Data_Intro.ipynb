{
 "cells": [
  {
   "cell_type": "markdown",
   "metadata": {
    "id": "od6RFDXSbqMP"
   },
   "source": [
    "### Building a Complete Pipeline with tf.data"
   ]
  },
  {
   "cell_type": "code",
   "execution_count": 1,
   "metadata": {
    "id": "_L8Zfk-BbmPD"
   },
   "outputs": [
    {
     "name": "stderr",
     "output_type": "stream",
     "text": [
      "2021-11-30 05:42:08.932992: I tensorflow/stream_executor/platform/default/dso_loader.cc:49] Successfully opened dynamic library libcudart.so.11.0\n"
     ]
    }
   ],
   "source": [
    "import matplotlib.pyplot as plt\n",
    "import numpy as np\n",
    "import time\n",
    "\n",
    "import tensorflow as tf\n",
    "\n",
    "from tensorflow.keras.datasets import cifar10"
   ]
  },
  {
   "cell_type": "code",
   "execution_count": 2,
   "metadata": {
    "colab": {
     "base_uri": "https://localhost:8080/"
    },
    "executionInfo": {
     "elapsed": 6291,
     "status": "ok",
     "timestamp": 1630182465675,
     "user": {
      "displayName": "Swap vi",
      "photoUrl": "",
      "userId": "01936573407644251994"
     },
     "user_tz": -120
    },
    "id": "IufPDMf0kHrS",
    "outputId": "8d713391-f4f2-4cb6-c5c4-97235bf575d5"
   },
   "outputs": [
    {
     "name": "stdout",
     "output_type": "stream",
     "text": [
      "check shapes:  (50000, 32, 32, 3) (50000, 1) (10000, 32, 32, 3) (10000, 1)\n"
     ]
    }
   ],
   "source": [
    "(x_train, y_train), (x_test, y_test) = cifar10.load_data()\n",
    "\n",
    "print ('check shapes: ', x_train.shape, y_train.shape, x_test.shape, y_test.shape)"
   ]
  },
  {
   "cell_type": "code",
   "execution_count": 3,
   "metadata": {
    "colab": {
     "base_uri": "https://localhost:8080/"
    },
    "executionInfo": {
     "elapsed": 1313,
     "status": "ok",
     "timestamp": 1630182468770,
     "user": {
      "displayName": "Swap vi",
      "photoUrl": "",
      "userId": "01936573407644251994"
     },
     "user_tz": -120
    },
    "id": "xhxKKYjFqrpV",
    "outputId": "875d4f54-878c-4f5d-ef4a-f4d41adc5a0a"
   },
   "outputs": [
    {
     "name": "stdout",
     "output_type": "stream",
     "text": [
      "train data shape after the split:  (40000, 32, 32, 3)\n",
      "new validation data shape:  (10000, 32, 32, 3)\n",
      "validation labels shape:  (10000, 10)\n"
     ]
    }
   ],
   "source": [
    "# train_im, test_im = x_train/255.0 , x_test/255.0\n",
    "\n",
    "train_lab_categorical = tf.keras.utils.to_categorical(y_train, num_classes=10, dtype='uint8')\n",
    "\n",
    "test_lab_categorical = tf.keras.utils.to_categorical(y_test, num_classes=10, dtype='uint8')\n",
    "\n",
    "from sklearn.model_selection import train_test_split \n",
    "train_im, valid_im, train_lab, valid_lab = train_test_split(x_train, train_lab_categorical, test_size=0.20, \n",
    "                                                            stratify=train_lab_categorical, \n",
    "                                                            random_state=40, shuffle = True) # stratify is unncessary \n",
    "\n",
    "print (\"train data shape after the split: \", train_im.shape)\n",
    "print ('new validation data shape: ', valid_im.shape)\n",
    "print (\"validation labels shape: \", valid_lab.shape)"
   ]
  },
  {
   "cell_type": "code",
   "execution_count": 4,
   "metadata": {
    "id": "WnSniIUktb3U"
   },
   "outputs": [],
   "source": [
    "class_types = ['airplane', 'automobile', 'bird', 'cat', 'deer',\n",
    "               'dog', 'frog', 'horse', 'ship', 'truck'] # from cifar-10 website"
   ]
  },
  {
   "cell_type": "code",
   "execution_count": 5,
   "metadata": {
    "colab": {
     "base_uri": "https://localhost:8080/"
    },
    "executionInfo": {
     "elapsed": 6801,
     "status": "ok",
     "timestamp": 1630182496072,
     "user": {
      "displayName": "Swap vi",
      "photoUrl": "",
      "userId": "01936573407644251994"
     },
     "user_tz": -120
    },
    "id": "2l6qcd1km3lt",
    "outputId": "8c4fc0ed-3d28-488b-d07b-165df03675f2"
   },
   "outputs": [
    {
     "name": "stdout",
     "output_type": "stream",
     "text": [
      "train im and label types:  <class 'numpy.ndarray'> <class 'numpy.ndarray'>\n"
     ]
    },
    {
     "name": "stderr",
     "output_type": "stream",
     "text": [
      "2021-11-30 05:42:12.059169: I tensorflow/compiler/jit/xla_cpu_device.cc:41] Not creating XLA devices, tf_xla_enable_xla_devices not set\n",
      "2021-11-30 05:42:12.060389: I tensorflow/stream_executor/platform/default/dso_loader.cc:49] Successfully opened dynamic library libcuda.so.1\n",
      "2021-11-30 05:42:14.135847: I tensorflow/stream_executor/cuda/cuda_gpu_executor.cc:941] successful NUMA node read from SysFS had negative value (-1), but there must be at least one NUMA node, so returning NUMA node zero\n",
      "2021-11-30 05:42:14.136702: I tensorflow/core/common_runtime/gpu/gpu_device.cc:1720] Found device 0 with properties: \n",
      "pciBusID: 0000:00:04.0 name: Tesla K80 computeCapability: 3.7\n",
      "coreClock: 0.8235GHz coreCount: 13 deviceMemorySize: 11.17GiB deviceMemoryBandwidth: 223.96GiB/s\n",
      "2021-11-30 05:42:14.136731: I tensorflow/stream_executor/platform/default/dso_loader.cc:49] Successfully opened dynamic library libcudart.so.11.0\n",
      "2021-11-30 05:42:14.139512: I tensorflow/stream_executor/platform/default/dso_loader.cc:49] Successfully opened dynamic library libcublas.so.11\n",
      "2021-11-30 05:42:14.139570: I tensorflow/stream_executor/platform/default/dso_loader.cc:49] Successfully opened dynamic library libcublasLt.so.11\n",
      "2021-11-30 05:42:14.140760: I tensorflow/stream_executor/platform/default/dso_loader.cc:49] Successfully opened dynamic library libcufft.so.10\n",
      "2021-11-30 05:42:14.141052: I tensorflow/stream_executor/platform/default/dso_loader.cc:49] Successfully opened dynamic library libcurand.so.10\n",
      "2021-11-30 05:42:14.143590: I tensorflow/stream_executor/platform/default/dso_loader.cc:49] Successfully opened dynamic library libcusolver.so.10\n",
      "2021-11-30 05:42:14.144203: I tensorflow/stream_executor/platform/default/dso_loader.cc:49] Successfully opened dynamic library libcusparse.so.11\n",
      "2021-11-30 05:42:14.144361: I tensorflow/stream_executor/platform/default/dso_loader.cc:49] Successfully opened dynamic library libcudnn.so.8\n",
      "2021-11-30 05:42:14.144451: I tensorflow/stream_executor/cuda/cuda_gpu_executor.cc:941] successful NUMA node read from SysFS had negative value (-1), but there must be at least one NUMA node, so returning NUMA node zero\n",
      "2021-11-30 05:42:14.145287: I tensorflow/stream_executor/cuda/cuda_gpu_executor.cc:941] successful NUMA node read from SysFS had negative value (-1), but there must be at least one NUMA node, so returning NUMA node zero\n",
      "2021-11-30 05:42:14.146156: I tensorflow/core/common_runtime/gpu/gpu_device.cc:1862] Adding visible gpu devices: 0\n",
      "2021-11-30 05:42:14.147029: I tensorflow/compiler/jit/xla_gpu_device.cc:99] Not creating XLA devices, tf_xla_enable_xla_devices not set\n",
      "2021-11-30 05:42:14.147185: I tensorflow/stream_executor/cuda/cuda_gpu_executor.cc:941] successful NUMA node read from SysFS had negative value (-1), but there must be at least one NUMA node, so returning NUMA node zero\n",
      "2021-11-30 05:42:14.147936: I tensorflow/core/common_runtime/gpu/gpu_device.cc:1720] Found device 0 with properties: \n",
      "pciBusID: 0000:00:04.0 name: Tesla K80 computeCapability: 3.7\n",
      "coreClock: 0.8235GHz coreCount: 13 deviceMemorySize: 11.17GiB deviceMemoryBandwidth: 223.96GiB/s\n",
      "2021-11-30 05:42:14.147961: I tensorflow/stream_executor/platform/default/dso_loader.cc:49] Successfully opened dynamic library libcudart.so.11.0\n",
      "2021-11-30 05:42:14.147984: I tensorflow/stream_executor/platform/default/dso_loader.cc:49] Successfully opened dynamic library libcublas.so.11\n",
      "2021-11-30 05:42:14.148004: I tensorflow/stream_executor/platform/default/dso_loader.cc:49] Successfully opened dynamic library libcublasLt.so.11\n",
      "2021-11-30 05:42:14.148021: I tensorflow/stream_executor/platform/default/dso_loader.cc:49] Successfully opened dynamic library libcufft.so.10\n",
      "2021-11-30 05:42:14.148039: I tensorflow/stream_executor/platform/default/dso_loader.cc:49] Successfully opened dynamic library libcurand.so.10\n",
      "2021-11-30 05:42:14.148056: I tensorflow/stream_executor/platform/default/dso_loader.cc:49] Successfully opened dynamic library libcusolver.so.10\n",
      "2021-11-30 05:42:14.148072: I tensorflow/stream_executor/platform/default/dso_loader.cc:49] Successfully opened dynamic library libcusparse.so.11\n",
      "2021-11-30 05:42:14.148090: I tensorflow/stream_executor/platform/default/dso_loader.cc:49] Successfully opened dynamic library libcudnn.so.8\n",
      "2021-11-30 05:42:14.148185: I tensorflow/stream_executor/cuda/cuda_gpu_executor.cc:941] successful NUMA node read from SysFS had negative value (-1), but there must be at least one NUMA node, so returning NUMA node zero\n",
      "2021-11-30 05:42:14.148822: I tensorflow/stream_executor/cuda/cuda_gpu_executor.cc:941] successful NUMA node read from SysFS had negative value (-1), but there must be at least one NUMA node, so returning NUMA node zero\n",
      "2021-11-30 05:42:14.149489: I tensorflow/core/common_runtime/gpu/gpu_device.cc:1862] Adding visible gpu devices: 0\n",
      "2021-11-30 05:42:14.149536: I tensorflow/stream_executor/platform/default/dso_loader.cc:49] Successfully opened dynamic library libcudart.so.11.0\n",
      "2021-11-30 05:42:14.661128: I tensorflow/core/common_runtime/gpu/gpu_device.cc:1261] Device interconnect StreamExecutor with strength 1 edge matrix:\n",
      "2021-11-30 05:42:14.661167: I tensorflow/core/common_runtime/gpu/gpu_device.cc:1267]      0 \n",
      "2021-11-30 05:42:14.661176: I tensorflow/core/common_runtime/gpu/gpu_device.cc:1280] 0:   N \n",
      "2021-11-30 05:42:14.661470: I tensorflow/stream_executor/cuda/cuda_gpu_executor.cc:941] successful NUMA node read from SysFS had negative value (-1), but there must be at least one NUMA node, so returning NUMA node zero\n",
      "2021-11-30 05:42:14.662283: I tensorflow/stream_executor/cuda/cuda_gpu_executor.cc:941] successful NUMA node read from SysFS had negative value (-1), but there must be at least one NUMA node, so returning NUMA node zero\n",
      "2021-11-30 05:42:14.663142: I tensorflow/stream_executor/cuda/cuda_gpu_executor.cc:941] successful NUMA node read from SysFS had negative value (-1), but there must be at least one NUMA node, so returning NUMA node zero\n",
      "2021-11-30 05:42:14.663823: I tensorflow/core/common_runtime/gpu/gpu_device.cc:1406] Created TensorFlow device (/job:localhost/replica:0/task:0/device:GPU:0 with 10624 MB memory) -> physical GPU (device: 0, name: Tesla K80, pci bus id: 0000:00:04.0, compute capability: 3.7)\n"
     ]
    },
    {
     "name": "stdout",
     "output_type": "stream",
     "text": [
      "check types;  <class 'tensorflow.python.data.ops.dataset_ops.TensorSliceDataset'> <class 'tensorflow.python.data.ops.dataset_ops.TensorSliceDataset'>\n"
     ]
    }
   ],
   "source": [
    "print ('train im and label types: ', type(train_im), type(train_lab))\n",
    "\n",
    "training_data = tf.data.Dataset.from_tensor_slices((train_im, train_lab))\n",
    "validation_data = tf.data.Dataset.from_tensor_slices((valid_im, valid_lab))\n",
    "test_data = tf.data.Dataset.from_tensor_slices((x_test, test_lab_categorical))\n",
    "\n",
    "print ('check types; ', type(training_data), type(validation_data)) "
   ]
  },
  {
   "cell_type": "markdown",
   "metadata": {
    "id": "J8a4tcOlxemc"
   },
   "source": [
    "#### What does ```from_tensor_slices``` do ?\n",
    "\n",
    "Definition from source code: \n",
    "\n",
    "Creates a `Dataset` whose elements are slices of the given tensors. The given tensors are sliced along their first dimension. This operation preserves the structure of the input tensors, removing the first dimension of each tensor and using it as the dataset dimension. All input tensors must have the same size in their first dimensions.\n",
    "\n",
    "* Slicing a 1D tensor produces scalar tensor elements.\n",
    "\n",
    "```\n",
    "    >>> dataset = tf.data.Dataset.from_tensor_slices([1, 2, 3])\n",
    "    >>> list(dataset.as_numpy_iterator()) # [1, 2, 3]\n",
    "```\n",
    "\n",
    "* Slicing a 2D tensor produces 1D tensor elements.\n",
    "```\n",
    "    >>> dataset = tf.data.Dataset.from_tensor_slices([[1, 2], [3, 4]])\n",
    "    >>> list(dataset.as_numpy_iterator())\n",
    "    [array([1, 2], dtype=int32), array([3, 4], dtype=int32)]\n",
    "```\n",
    "* Slicing a tuple of 1D tensors produces tuple elements containing scalar tensors.\n",
    "```\n",
    "    >>> dataset = tf.data.Dataset.from_tensor_slices(([1, 2], [3, 4], [5, 6]))\n",
    "    >>> list(dataset.as_numpy_iterator())\n",
    "    [(1, 3, 5), (2, 4, 6)]\n",
    "```    \n",
    "\n",
    "* Dictionary structure is also preserved.\n",
    "\n",
    "```\n",
    "    >>> dataset = tf.data.Dataset.from_tensor_slices({\"a\": [1, 2], \"b\": [3, 4]})\n",
    "    >>> list(dataset.as_numpy_iterator()) == [{'a': 1, 'b': 3},\n",
    "    ...                                       {'a': 2, 'b': 4}]\n",
    "    True\n",
    "```    \n",
    "* Two tensors can be combined into one Dataset object.\n",
    "\n",
    "```\n",
    "    >>> features = tf.constant([[1, 3], [2, 1], [3, 3]]) # ==> 3x2 tensor\n",
    "    >>> labels = tf.constant(['A', 'B', 'A']) # ==> 3x1 tensor\n",
    "    >>> dataset = Dataset.from_tensor_slices((features, labels))\n",
    "```    \n",
    "\n",
    "* Both the features and the labels tensors can be converted to a Dataset object separately and combined after.\n",
    "\n",
    "```\n",
    "    >>> features_dataset = Dataset.from_tensor_slices(features)\n",
    "    >>> labels_dataset = Dataset.from_tensor_slices(labels)\n",
    "    >>> dataset = Dataset.zip((features_dataset, labels_dataset))\n",
    "```\n",
    "\n",
    "We have used one of these examples (2nd from the  last), to create a dataset object by combining two input numpy arrays. Let's inspect !   "
   ]
  },
  {
   "cell_type": "code",
   "execution_count": 6,
   "metadata": {
    "colab": {
     "base_uri": "https://localhost:8080/"
    },
    "executionInfo": {
     "elapsed": 276,
     "status": "ok",
     "timestamp": 1630182512054,
     "user": {
      "displayName": "Swap vi",
      "photoUrl": "",
      "userId": "01936573407644251994"
     },
     "user_tz": -120
    },
    "id": "kqNBKqdMxy0m",
    "outputId": "461dc80b-ba87-4580-eb03-d4540afd0d81"
   },
   "outputs": [
    {
     "name": "stdout",
     "output_type": "stream",
     "text": [
      "(TensorSpec(shape=(32, 32, 3), dtype=tf.uint8, name=None), TensorSpec(shape=(10,), dtype=tf.uint8, name=None))\n",
      "(TensorSpec(shape=(32, 32, 3), dtype=tf.uint8, name=None), TensorSpec(shape=(10,), dtype=tf.uint8, name=None))\n",
      "[[[ 16  57   8]\n",
      "  [  8  53   8]\n",
      "  [  6  30   7]\n",
      "  ...\n",
      "  [233 234 230]\n",
      "  [190 192 191]\n",
      "  [ 79  81  81]]\n",
      "\n",
      " [[ 64 110  33]\n",
      "  [ 35  93  29]\n",
      "  [ 24  29  12]\n",
      "  ...\n",
      "  [245 248 248]\n",
      "  [228 229 229]\n",
      "  [ 80  83  86]]\n",
      "\n",
      " [[ 78 120  39]\n",
      "  [ 40 100  34]\n",
      "  [ 40  47  21]\n",
      "  ...\n",
      "  [238 241 242]\n",
      "  [237 237 236]\n",
      "  [ 86  89  93]]\n",
      "\n",
      " ...\n",
      "\n",
      " [[ 55  59  59]\n",
      "  [ 56  58  57]\n",
      "  [ 59  60  58]\n",
      "  ...\n",
      "  [ 68  67  61]\n",
      "  [ 67  65  61]\n",
      "  [ 64  63  60]]\n",
      "\n",
      " [[ 47  52  54]\n",
      "  [ 55  56  55]\n",
      "  [ 64  64  62]\n",
      "  ...\n",
      "  [ 76  73  66]\n",
      "  [ 78  74  66]\n",
      "  [ 76  73  67]]\n",
      "\n",
      " [[ 56  55  54]\n",
      "  [ 54  56  55]\n",
      "  [ 57  60  60]\n",
      "  ...\n",
      "  [ 62  63  61]\n",
      "  [ 76  73  68]\n",
      "  [ 77  76  73]]] \n",
      " [0 0 0 0 0 0 1 0 0 0] 6\n"
     ]
    }
   ],
   "source": [
    "### check using element_spec\n",
    "\n",
    "print (training_data.element_spec)\n",
    "print (validation_data.element_spec)\n",
    "\n",
    "### as expected, tensors of image and original label shape\n",
    "\n",
    "\n",
    "### create an iterator and turn it into numpy array \n",
    "train_iter = iter(training_data)\n",
    "print(next(train_iter)[0].numpy(), '\\n', next(train_iter)[1].numpy(), np.argmax(next(train_iter)[1].numpy()))"
   ]
  },
  {
   "cell_type": "code",
   "execution_count": 7,
   "metadata": {
    "colab": {
     "base_uri": "https://localhost:8080/"
    },
    "executionInfo": {
     "elapsed": 307,
     "status": "ok",
     "timestamp": 1630182516629,
     "user": {
      "displayName": "Swap vi",
      "photoUrl": "",
      "userId": "01936573407644251994"
     },
     "user_tz": -120
    },
    "id": "lHsIKhqIs4Rt",
    "outputId": "f85f8ae0-63d5-4759-93a3-61e3002f5f7a"
   },
   "outputs": [
    {
     "name": "stdout",
     "output_type": "stream",
     "text": [
      "(32, 32, 3) (10,)\n"
     ]
    }
   ],
   "source": [
    "train_iter_im, train_iter_label = next(iter(training_data))\n",
    "print (train_iter_im.numpy().shape, train_iter_label.numpy().shape)"
   ]
  },
  {
   "cell_type": "code",
   "execution_count": 8,
   "metadata": {
    "colab": {
     "base_uri": "https://localhost:8080/"
    },
    "executionInfo": {
     "elapsed": 28,
     "status": "ok",
     "timestamp": 1630182732199,
     "user": {
      "displayName": "Swap vi",
      "photoUrl": "",
      "userId": "01936573407644251994"
     },
     "user_tz": -120
    },
    "id": "Z56tBtYrczQ6",
    "outputId": "9edb8aa7-654d-4e50-bf94-66370f231565"
   },
   "outputs": [
    {
     "name": "stdout",
     "output_type": "stream",
     "text": [
      "(32, 32, 3) (10,)\n"
     ]
    }
   ],
   "source": [
    "train_iter_im1, train_iter_label1 = next(training_data.as_numpy_iterator())\n",
    "print (train_iter_im1.shape, train_iter_label1.shape)"
   ]
  },
  {
   "cell_type": "code",
   "execution_count": 9,
   "metadata": {
    "colab": {
     "base_uri": "https://localhost:8080/"
    },
    "executionInfo": {
     "elapsed": 6106,
     "status": "ok",
     "timestamp": 1629115351162,
     "user": {
      "displayName": "Swap vi",
      "photoUrl": "",
      "userId": "01936573407644251994"
     },
     "user_tz": -120
    },
    "id": "561AfqLMW51e",
    "outputId": "c16c90e7-1401-49c0-fb7c-219d6d564e01"
   },
   "outputs": [
    {
     "name": "stdout",
     "output_type": "stream",
     "text": [
      "40000 (array([[[ 88, 119,  52],\n",
      "        [ 71,  91,  42],\n",
      "        [ 46,  52,  23],\n",
      "        ...,\n",
      "        [ 70,  93,  36],\n",
      "        [ 67,  73,  47],\n",
      "        [ 64,  59,  70]],\n",
      "\n",
      "       [[ 93, 124,  57],\n",
      "        [ 67,  88,  36],\n",
      "        [ 32,  40,   8],\n",
      "        ...,\n",
      "        [ 72,  89,  50],\n",
      "        [ 74,  73,  67],\n",
      "        [ 72,  65,  75]],\n",
      "\n",
      "       [[ 98, 129,  62],\n",
      "        [ 79, 101,  46],\n",
      "        [ 55,  67,  28],\n",
      "        ...,\n",
      "        [ 90,  91,  73],\n",
      "        [ 79,  73,  85],\n",
      "        [ 74,  70,  78]],\n",
      "\n",
      "       ...,\n",
      "\n",
      "       [[ 22,  16,  15],\n",
      "        [ 18,  19,  18],\n",
      "        [  9,  11,  11],\n",
      "        ...,\n",
      "        [ 60,  49,  58],\n",
      "        [ 43,  33,  45],\n",
      "        [ 29,  21,  37]],\n",
      "\n",
      "       [[ 33,  25,  35],\n",
      "        [ 20,  16,  26],\n",
      "        [ 10,   8,  18],\n",
      "        ...,\n",
      "        [ 61,  50,  60],\n",
      "        [ 38,  28,  39],\n",
      "        [ 30,  23,  34]],\n",
      "\n",
      "       [[ 29,  21,  36],\n",
      "        [ 10,   5,  18],\n",
      "        [ 15,  12,  25],\n",
      "        ...,\n",
      "        [ 47,  36,  47],\n",
      "        [ 37,  27,  38],\n",
      "        [ 41,  35,  45]]], dtype=uint8), array([0, 0, 0, 0, 0, 0, 1, 0, 0, 0], dtype=uint8))\n"
     ]
    }
   ],
   "source": [
    "check_list = list(training_data.as_numpy_iterator())\n",
    "print (len(check_list), check_list[1])"
   ]
  },
  {
   "cell_type": "code",
   "execution_count": 10,
   "metadata": {
    "colab": {
     "base_uri": "https://localhost:8080/",
     "height": 729
    },
    "executionInfo": {
     "elapsed": 1156,
     "status": "ok",
     "timestamp": 1629115356190,
     "user": {
      "displayName": "Swap vi",
      "photoUrl": "",
      "userId": "01936573407644251994"
     },
     "user_tz": -120
    },
    "id": "qsUHWn0gyb40",
    "outputId": "a0714e99-6f5c-4758-e2e1-8d83415c23a0"
   },
   "outputs": [
    {
     "data": {
      "image/png": "[encoded data removed]",
      "text/plain": [
       "<Figure size 720x720 with 12 Axes>"
      ]
     },
     "metadata": {},
     "output_type": "display_data"
    }
   ],
   "source": [
    "#### plot images and corresponding labels\n",
    "\n",
    "fig = plt.figure(figsize=(10,10))\n",
    "for i in range(12):\n",
    "    plt.subplot(4,3,i+1)\n",
    "    plt.xticks([])\n",
    "    plt.yticks([])\n",
    "    plt.grid(False)\n",
    "    plt.imshow(check_list[i][0], cmap='gray')\n",
    "    plt.xlabel(class_types [np.argmax(check_list[i][1])], fontsize=13)\n",
    "plt.tight_layout()    \n",
    "plt.show()"
   ]
  },
  {
   "cell_type": "markdown",
   "metadata": {
    "id": "daokRNrMR4EB"
   },
   "source": [
    "### Vanilla Pipeline vs Pipeline Using ```tf.data``` & Prefetching \n",
    "\n",
    "An excellent description is given in the TensorFlow data pipeline [documentation](https://www.tensorflow.org/guide/data_performance). "
   ]
  },
  {
   "cell_type": "code",
   "execution_count": 11,
   "metadata": {
    "id": "2Tz3k7HiALpI"
   },
   "outputs": [],
   "source": [
    "### comparison of naive approach of training batch generation with ImageDataGenerator and tf. data \n",
    "\n",
    "from tensorflow.keras.preprocessing.image import ImageDataGenerator\n",
    "\n",
    "autotune = tf.data.AUTOTUNE ### most important function"
   ]
  },
  {
   "cell_type": "code",
   "execution_count": 12,
   "metadata": {
    "colab": {
     "base_uri": "https://localhost:8080/"
    },
    "executionInfo": {
     "elapsed": 542,
     "status": "ok",
     "timestamp": 1629107499955,
     "user": {
      "displayName": "Swap vi",
      "photoUrl": "",
      "userId": "01936573407644251994"
     },
     "user_tz": -120
    },
    "id": "Fulog5k9E2Cy",
    "outputId": "9b8f9a6b-d31c-4199-e05b-17156885d423"
   },
   "outputs": [
    {
     "name": "stdout",
     "output_type": "stream",
     "text": [
      "time taken:  0.14842581748962402\n"
     ]
    }
   ],
   "source": [
    "### creating data batch using ImageDatagenerator \n",
    "st1 = time.time()\n",
    "train_datagen = ImageDataGenerator().flow(x=train_im, y=train_lab, batch_size=128, shuffle=True,)\n",
    "et1 = time.time()\n",
    "print ('time taken: ', et1-st1)"
   ]
  },
  {
   "cell_type": "code",
   "execution_count": 13,
   "metadata": {
    "colab": {
     "base_uri": "https://localhost:8080/"
    },
    "executionInfo": {
     "elapsed": 210,
     "status": "ok",
     "timestamp": 1629107510502,
     "user": {
      "displayName": "Swap vi",
      "photoUrl": "",
      "userId": "01936573407644251994"
     },
     "user_tz": -120
    },
    "id": "TJZXMpowVF1l",
    "outputId": "0bca6b69-6d0c-4072-b9e4-28f1956e35d2"
   },
   "outputs": [
    {
     "name": "stdout",
     "output_type": "stream",
     "text": [
      "time taken:  0.0023615360260009766\n"
     ]
    }
   ],
   "source": [
    "st2 = time.time()\n",
    "train_datagen_tfdata = training_data.shuffle(buffer_size=40000).batch(128).prefetch(buffer_size=autotune)\n",
    "et2 = time.time()\n",
    "print ('time taken: ', et2-st2)"
   ]
  },
  {
   "cell_type": "code",
   "execution_count": 14,
   "metadata": {
    "colab": {
     "base_uri": "https://localhost:8080/"
    },
    "executionInfo": {
     "elapsed": 198,
     "status": "ok",
     "timestamp": 1629107597447,
     "user": {
      "displayName": "Swap vi",
      "photoUrl": "",
      "userId": "01936573407644251994"
     },
     "user_tz": -120
    },
    "id": "zGWbn3_xXx6V",
    "outputId": "8f56bd73-59e5-44db-db98-d86bfe25e4c5"
   },
   "outputs": [
    {
     "name": "stdout",
     "output_type": "stream",
     "text": [
      "tf dataset shuffle is about 62.85 faster than ImageDataGenerator\n"
     ]
    }
   ],
   "source": [
    "print ('tf dataset shuffle is about %3.2f faster than ImageDataGenerator'%((et1-st1)/(et2-st2)))"
   ]
  },
  {
   "cell_type": "markdown",
   "metadata": {
    "id": "ETz4HVkDYS5_"
   },
   "source": [
    "### How to Include Augmentation with ```tf.data```  \n",
    "\n",
    "Here we will use pre-processing layers, to build series of augmentations. \n",
    "\n",
    "We can also include a rescaling or resizing layer. (Important for normalizing images in this particular case).  \n",
    "\n",
    "TensorFlow already has a nice documentation, with examples included; [Link](https://www.tensorflow.org/tutorials/images/data_augmentation#augment_a_dataset_and_train_a_model_with_it).  "
   ]
  },
  {
   "cell_type": "code",
   "execution_count": 15,
   "metadata": {
    "colab": {
     "base_uri": "https://localhost:8080/",
     "height": 729
    },
    "executionInfo": {
     "elapsed": 1572,
     "status": "ok",
     "timestamp": 1629187827743,
     "user": {
      "displayName": "Swap vi",
      "photoUrl": "",
      "userId": "01936573407644251994"
     },
     "user_tz": -120
    },
    "id": "2xDxFEecrBB8",
    "outputId": "d0e202e2-07c0-44d1-d950-4f2dc2d313c9"
   },
   "outputs": [
    {
     "data": {
      "image/png": "[encoded data removed]",
      "text/plain": [
       "<Figure size 720x720 with 12 Axes>"
      ]
     },
     "metadata": {},
     "output_type": "display_data"
    }
   ],
   "source": [
    "from tensorflow.keras import layers\n",
    "\n",
    "rescale_layer = tf.keras.Sequential([layers.experimental.preprocessing.Rescaling(1./255)])\n",
    "\n",
    "data_augmentation = tf.keras.Sequential([\n",
    "  layers.experimental.preprocessing.RandomFlip(\"horizontal_and_vertical\"),\n",
    "  layers.experimental.preprocessing.RandomRotation(0.2), \n",
    "  layers.experimental.preprocessing.RandomZoom(height_factor=(0.2, 0.3), width_factor=(0.2, 0.3)),\n",
    "  layers.experimental.preprocessing.RandomTranslation(0.3, 0.3, fill_mode='reflect', interpolation='bilinear',)\n",
    "])\n",
    "\n",
    "### create an iterable and apply the augmentation  \n",
    "\n",
    "### let's try something fancy \n",
    "from itertools import islice, count\n",
    "\n",
    "train_iter_5im, train_iter_5label = next(islice(training_data, 5, None)) # access the 5th element from the iterator\n",
    "\n",
    "\n",
    "\n",
    "train_iter_5im = tf.expand_dims(train_iter_5im, 0)\n",
    "train_iter_5label = train_iter_5label.numpy()\n",
    "\n",
    "plt.figure(figsize=(10, 10))\n",
    "\n",
    "for i in range(12):\n",
    "  plt.subplot(4, 3, i+1)\n",
    "  plt.xticks([])\n",
    "  plt.yticks([])\n",
    "  plt.grid(False)\n",
    "  aug_img = data_augmentation(train_iter_5im)\n",
    "  plt.imshow(aug_img[0], cmap='gray')\n",
    "  plt.xlabel(class_types [np.argmax(train_iter_5label)], fontsize=13)\n",
    "plt.tight_layout()    \n",
    "plt.show()"
   ]
  },
  {
   "cell_type": "code",
   "execution_count": 16,
   "metadata": {
    "id": "4ZMEen1FvDok"
   },
   "outputs": [],
   "source": [
    "train_data_batches = training_data.shuffle(buffer_size=40000).batch(128).prefetch(buffer_size=autotune)\n",
    "valid_data_batches = validation_data.shuffle(buffer_size=10000).batch(32).prefetch(buffer_size=autotune)"
   ]
  },
  {
   "cell_type": "markdown",
   "metadata": {
    "id": "Mf6pciLS2sHV"
   },
   "source": [
    "### Use Pre-Trained ResNet \n",
    "\n",
    "We will use a pre-trained ResNet50 with [ImageNet](https://image-net.org/) data. For an example of transfer learning check the TensorFlow [documentation](https://www.tensorflow.org/guide/keras/transfer_learning).  "
   ]
  },
  {
   "cell_type": "code",
   "execution_count": 17,
   "metadata": {
    "id": "J_o8TdwcGttC"
   },
   "outputs": [],
   "source": [
    "from tensorflow.keras.applications.resnet50 import ResNet50\n",
    "from tensorflow.keras.layers import Dense, Dropout, Activation, Input, BatchNormalization, GlobalAveragePooling2D\n",
    "from tensorflow.keras.models import Sequential, Model"
   ]
  },
  {
   "cell_type": "code",
   "execution_count": 18,
   "metadata": {
    "colab": {
     "base_uri": "https://localhost:8080/"
    },
    "executionInfo": {
     "elapsed": 2389,
     "status": "ok",
     "timestamp": 1629187843096,
     "user": {
      "displayName": "Swap vi",
      "photoUrl": "",
      "userId": "01936573407644251994"
     },
     "user_tz": -120
    },
    "id": "xqm1cQkSHdTb",
    "outputId": "b001d639-0107-4560-e0ce-8185611679d5"
   },
   "outputs": [
    {
     "name": "stdout",
     "output_type": "stream",
     "text": [
      "Model: \"model\"\n",
      "_________________________________________________________________\n",
      "Layer (type)                 Output Shape              Param #   \n",
      "=================================================================\n",
      "input_2 (InputLayer)         [(None, 32, 32, 3)]       0         \n",
      "_________________________________________________________________\n",
      "sequential (Sequential)      (None, 32, 32, 3)         0         \n",
      "_________________________________________________________________\n",
      "sequential_1 (Sequential)    (None, 32, 32, 3)         0         \n",
      "_________________________________________________________________\n",
      "resnet50 (Functional)        (None, 1, 1, 2048)        23587712  \n",
      "_________________________________________________________________\n",
      "global_average_pooling2d (Gl (None, 2048)              0         \n",
      "_________________________________________________________________\n",
      "dropout (Dropout)            (None, 2048)              0         \n",
      "_________________________________________________________________\n",
      "dense (Dense)                (None, 10)                20490     \n",
      "=================================================================\n",
      "Total params: 23,608,202\n",
      "Trainable params: 23,555,082\n",
      "Non-trainable params: 53,120\n",
      "_________________________________________________________________\n"
     ]
    }
   ],
   "source": [
    "def create_model():\n",
    "  base_model = ResNet50(include_top=False, weights='imagenet', input_shape=(32, 32, 3))\n",
    "  # for layer in base_model.layers[:-30]:\n",
    "  #   layer.trainable = False\n",
    "  inputs = Input(shape=(32, 32, 3))\n",
    "  rescale = rescale_layer(inputs)\n",
    "  augmented = data_augmentation(rescale)\n",
    "  resnet = base_model(augmented)\n",
    "  pooling = layers.GlobalAveragePooling2D()(resnet)\n",
    "  dropout = layers.Dropout(0.4)(pooling)\n",
    "  outputs = Dense(len(class_types), activation=\"softmax\")(dropout)\n",
    "  model = Model(inputs=inputs, outputs=outputs)\n",
    "\n",
    "  return model\n",
    "\n",
    "model = create_model()\n",
    "model.summary()  "
   ]
  },
  {
   "cell_type": "code",
   "execution_count": 19,
   "metadata": {
    "id": "TQ6Nm77VMFTj"
   },
   "outputs": [],
   "source": [
    "model.compile(loss='categorical_crossentropy', optimizer=tf.keras.optimizers.Adam(learning_rate=5e-4), \n",
    "                       metrics=['acc'])"
   ]
  },
  {
   "cell_type": "code",
   "execution_count": 20,
   "metadata": {
    "colab": {
     "base_uri": "https://localhost:8080/"
    },
    "executionInfo": {
     "elapsed": 2080770,
     "status": "ok",
     "timestamp": 1629189937616,
     "user": {
      "displayName": "Swap vi",
      "photoUrl": "",
      "userId": "01936573407644251994"
     },
     "user_tz": -120
    },
    "id": "X3hStrnCMl7U",
    "outputId": "b318503f-f2e5-4a06-c9e7-0260febdfafa"
   },
   "outputs": [
    {
     "name": "stdout",
     "output_type": "stream",
     "text": [
      "Epoch 1/60\n"
     ]
    },
    {
     "name": "stderr",
     "output_type": "stream",
     "text": [
      "2021-11-30 05:42:32.251731: I tensorflow/compiler/mlir/mlir_graph_optimization_pass.cc:116] None of the MLIR optimization passes are enabled (registered 2)\n",
      "2021-11-30 05:42:32.285771: I tensorflow/core/platform/profile_utils/cpu_utils.cc:112] CPU Frequency: 2299995000 Hz\n",
      "2021-11-30 05:42:33.573478: I tensorflow/stream_executor/platform/default/dso_loader.cc:49] Successfully opened dynamic library libcublas.so.11\n",
      "2021-11-30 05:42:33.803844: I tensorflow/stream_executor/platform/default/dso_loader.cc:49] Successfully opened dynamic library libcublasLt.so.11\n",
      "2021-11-30 05:42:33.816174: I tensorflow/stream_executor/platform/default/dso_loader.cc:49] Successfully opened dynamic library libcudnn.so.8\n"
     ]
    },
    {
     "name": "stdout",
     "output_type": "stream",
     "text": [
      "313/313 [==============================] - 64s 177ms/step - loss: 2.5742 - acc: 0.2335 - val_loss: 2.4056 - val_acc: 0.1000\n",
      "Epoch 2/60\n",
      "313/313 [==============================] - 52s 166ms/step - loss: 2.0079 - acc: 0.3430 - val_loss: 3.9163 - val_acc: 0.1694\n",
      "Epoch 3/60\n",
      "275/313 [=========================>....] - ETA: 5s - loss: 2.1207 - acc: 0.2967"
     ]
    },
    {
     "ename": "KeyboardInterrupt",
     "evalue": "",
     "output_type": "error",
     "traceback": [
      "\u001b[0;31m---------------------------------------------------------------------------\u001b[0m",
      "\u001b[0;31mKeyboardInterrupt\u001b[0m                         Traceback (most recent call last)",
      "\u001b[0;32m/tmp/ipykernel_9725/2071614864.py\u001b[0m in \u001b[0;36m<module>\u001b[0;34m\u001b[0m\n\u001b[1;32m      3\u001b[0m \u001b[0;34m\u001b[0m\u001b[0m\n\u001b[1;32m      4\u001b[0m \u001b[0;34m\u001b[0m\u001b[0m\n\u001b[0;32m----> 5\u001b[0;31m history = model.fit(train_data_batches,\n\u001b[0m\u001b[1;32m      6\u001b[0m                   \u001b[0mepochs\u001b[0m \u001b[0;34m=\u001b[0m \u001b[0;36m60\u001b[0m\u001b[0;34m,\u001b[0m\u001b[0;34m\u001b[0m\u001b[0;34m\u001b[0m\u001b[0m\n\u001b[1;32m      7\u001b[0m                   \u001b[0mvalidation_data\u001b[0m\u001b[0;34m=\u001b[0m\u001b[0mvalid_data_batches\u001b[0m\u001b[0;34m,\u001b[0m\u001b[0;34m\u001b[0m\u001b[0;34m\u001b[0m\u001b[0m\n",
      "\u001b[0;32m~/tensorflow/venv/lib/python3.8/site-packages/tensorflow/python/keras/engine/training.py\u001b[0m in \u001b[0;36mfit\u001b[0;34m(self, x, y, batch_size, epochs, verbose, callbacks, validation_split, validation_data, shuffle, class_weight, sample_weight, initial_epoch, steps_per_epoch, validation_steps, validation_batch_size, validation_freq, max_queue_size, workers, use_multiprocessing)\u001b[0m\n\u001b[1;32m   1098\u001b[0m                 _r=1):\n\u001b[1;32m   1099\u001b[0m               \u001b[0mcallbacks\u001b[0m\u001b[0;34m.\u001b[0m\u001b[0mon_train_batch_begin\u001b[0m\u001b[0;34m(\u001b[0m\u001b[0mstep\u001b[0m\u001b[0;34m)\u001b[0m\u001b[0;34m\u001b[0m\u001b[0;34m\u001b[0m\u001b[0m\n\u001b[0;32m-> 1100\u001b[0;31m               \u001b[0mtmp_logs\u001b[0m \u001b[0;34m=\u001b[0m \u001b[0mself\u001b[0m\u001b[0;34m.\u001b[0m\u001b[0mtrain_function\u001b[0m\u001b[0;34m(\u001b[0m\u001b[0miterator\u001b[0m\u001b[0;34m)\u001b[0m\u001b[0;34m\u001b[0m\u001b[0;34m\u001b[0m\u001b[0m\n\u001b[0m\u001b[1;32m   1101\u001b[0m               \u001b[0;32mif\u001b[0m \u001b[0mdata_handler\u001b[0m\u001b[0;34m.\u001b[0m\u001b[0mshould_sync\u001b[0m\u001b[0;34m:\u001b[0m\u001b[0;34m\u001b[0m\u001b[0;34m\u001b[0m\u001b[0m\n\u001b[1;32m   1102\u001b[0m                 \u001b[0mcontext\u001b[0m\u001b[0;34m.\u001b[0m\u001b[0masync_wait\u001b[0m\u001b[0;34m(\u001b[0m\u001b[0;34m)\u001b[0m\u001b[0;34m\u001b[0m\u001b[0;34m\u001b[0m\u001b[0m\n",
      "\u001b[0;32m~/tensorflow/venv/lib/python3.8/site-packages/tensorflow/python/eager/def_function.py\u001b[0m in \u001b[0;36m__call__\u001b[0;34m(self, *args, **kwds)\u001b[0m\n\u001b[1;32m    826\u001b[0m     \u001b[0mtracing_count\u001b[0m \u001b[0;34m=\u001b[0m \u001b[0mself\u001b[0m\u001b[0;34m.\u001b[0m\u001b[0mexperimental_get_tracing_count\u001b[0m\u001b[0;34m(\u001b[0m\u001b[0;34m)\u001b[0m\u001b[0;34m\u001b[0m\u001b[0;34m\u001b[0m\u001b[0m\n\u001b[1;32m    827\u001b[0m     \u001b[0;32mwith\u001b[0m \u001b[0mtrace\u001b[0m\u001b[0;34m.\u001b[0m\u001b[0mTrace\u001b[0m\u001b[0;34m(\u001b[0m\u001b[0mself\u001b[0m\u001b[0;34m.\u001b[0m\u001b[0m_name\u001b[0m\u001b[0;34m)\u001b[0m \u001b[0;32mas\u001b[0m \u001b[0mtm\u001b[0m\u001b[0;34m:\u001b[0m\u001b[0;34m\u001b[0m\u001b[0;34m\u001b[0m\u001b[0m\n\u001b[0;32m--> 828\u001b[0;31m       \u001b[0mresult\u001b[0m \u001b[0;34m=\u001b[0m \u001b[0mself\u001b[0m\u001b[0;34m.\u001b[0m\u001b[0m_call\u001b[0m\u001b[0;34m(\u001b[0m\u001b[0;34m*\u001b[0m\u001b[0margs\u001b[0m\u001b[0;34m,\u001b[0m \u001b[0;34m**\u001b[0m\u001b[0mkwds\u001b[0m\u001b[0;34m)\u001b[0m\u001b[0;34m\u001b[0m\u001b[0;34m\u001b[0m\u001b[0m\n\u001b[0m\u001b[1;32m    829\u001b[0m       \u001b[0mcompiler\u001b[0m \u001b[0;34m=\u001b[0m \u001b[0;34m\"xla\"\u001b[0m \u001b[0;32mif\u001b[0m \u001b[0mself\u001b[0m\u001b[0;34m.\u001b[0m\u001b[0m_experimental_compile\u001b[0m \u001b[0;32melse\u001b[0m \u001b[0;34m\"nonXla\"\u001b[0m\u001b[0;34m\u001b[0m\u001b[0;34m\u001b[0m\u001b[0m\n\u001b[1;32m    830\u001b[0m       \u001b[0mnew_tracing_count\u001b[0m \u001b[0;34m=\u001b[0m \u001b[0mself\u001b[0m\u001b[0;34m.\u001b[0m\u001b[0mexperimental_get_tracing_count\u001b[0m\u001b[0;34m(\u001b[0m\u001b[0;34m)\u001b[0m\u001b[0;34m\u001b[0m\u001b[0;34m\u001b[0m\u001b[0m\n",
      "\u001b[0;32m~/tensorflow/venv/lib/python3.8/site-packages/tensorflow/python/eager/def_function.py\u001b[0m in \u001b[0;36m_call\u001b[0;34m(self, *args, **kwds)\u001b[0m\n\u001b[1;32m    853\u001b[0m       \u001b[0;31m# In this case we have created variables on the first call, so we run the\u001b[0m\u001b[0;34m\u001b[0m\u001b[0;34m\u001b[0m\u001b[0;34m\u001b[0m\u001b[0m\n\u001b[1;32m    854\u001b[0m       \u001b[0;31m# defunned version which is guaranteed to never create variables.\u001b[0m\u001b[0;34m\u001b[0m\u001b[0;34m\u001b[0m\u001b[0;34m\u001b[0m\u001b[0m\n\u001b[0;32m--> 855\u001b[0;31m       \u001b[0;32mreturn\u001b[0m \u001b[0mself\u001b[0m\u001b[0;34m.\u001b[0m\u001b[0m_stateless_fn\u001b[0m\u001b[0;34m(\u001b[0m\u001b[0;34m*\u001b[0m\u001b[0margs\u001b[0m\u001b[0;34m,\u001b[0m \u001b[0;34m**\u001b[0m\u001b[0mkwds\u001b[0m\u001b[0;34m)\u001b[0m  \u001b[0;31m# pylint: disable=not-callable\u001b[0m\u001b[0;34m\u001b[0m\u001b[0;34m\u001b[0m\u001b[0m\n\u001b[0m\u001b[1;32m    856\u001b[0m     \u001b[0;32melif\u001b[0m \u001b[0mself\u001b[0m\u001b[0;34m.\u001b[0m\u001b[0m_stateful_fn\u001b[0m \u001b[0;32mis\u001b[0m \u001b[0;32mnot\u001b[0m \u001b[0;32mNone\u001b[0m\u001b[0;34m:\u001b[0m\u001b[0;34m\u001b[0m\u001b[0;34m\u001b[0m\u001b[0m\n\u001b[1;32m    857\u001b[0m       \u001b[0;31m# Release the lock early so that multiple threads can perform the call\u001b[0m\u001b[0;34m\u001b[0m\u001b[0;34m\u001b[0m\u001b[0;34m\u001b[0m\u001b[0m\n",
      "\u001b[0;32m~/tensorflow/venv/lib/python3.8/site-packages/tensorflow/python/eager/function.py\u001b[0m in \u001b[0;36m__call__\u001b[0;34m(self, *args, **kwargs)\u001b[0m\n\u001b[1;32m   2940\u001b[0m       (graph_function,\n\u001b[1;32m   2941\u001b[0m        filtered_flat_args) = self._maybe_define_function(args, kwargs)\n\u001b[0;32m-> 2942\u001b[0;31m     return graph_function._call_flat(\n\u001b[0m\u001b[1;32m   2943\u001b[0m         filtered_flat_args, captured_inputs=graph_function.captured_inputs)  # pylint: disable=protected-access\n\u001b[1;32m   2944\u001b[0m \u001b[0;34m\u001b[0m\u001b[0m\n",
      "\u001b[0;32m~/tensorflow/venv/lib/python3.8/site-packages/tensorflow/python/eager/function.py\u001b[0m in \u001b[0;36m_call_flat\u001b[0;34m(self, args, captured_inputs, cancellation_manager)\u001b[0m\n\u001b[1;32m   1916\u001b[0m         and executing_eagerly):\n\u001b[1;32m   1917\u001b[0m       \u001b[0;31m# No tape is watching; skip to running the function.\u001b[0m\u001b[0;34m\u001b[0m\u001b[0;34m\u001b[0m\u001b[0;34m\u001b[0m\u001b[0m\n\u001b[0;32m-> 1918\u001b[0;31m       return self._build_call_outputs(self._inference_function.call(\n\u001b[0m\u001b[1;32m   1919\u001b[0m           ctx, args, cancellation_manager=cancellation_manager))\n\u001b[1;32m   1920\u001b[0m     forward_backward = self._select_forward_and_backward_functions(\n",
      "\u001b[0;32m~/tensorflow/venv/lib/python3.8/site-packages/tensorflow/python/eager/function.py\u001b[0m in \u001b[0;36mcall\u001b[0;34m(self, ctx, args, cancellation_manager)\u001b[0m\n\u001b[1;32m    553\u001b[0m       \u001b[0;32mwith\u001b[0m \u001b[0m_InterpolateFunctionError\u001b[0m\u001b[0;34m(\u001b[0m\u001b[0mself\u001b[0m\u001b[0;34m)\u001b[0m\u001b[0;34m:\u001b[0m\u001b[0;34m\u001b[0m\u001b[0;34m\u001b[0m\u001b[0m\n\u001b[1;32m    554\u001b[0m         \u001b[0;32mif\u001b[0m \u001b[0mcancellation_manager\u001b[0m \u001b[0;32mis\u001b[0m \u001b[0;32mNone\u001b[0m\u001b[0;34m:\u001b[0m\u001b[0;34m\u001b[0m\u001b[0;34m\u001b[0m\u001b[0m\n\u001b[0;32m--> 555\u001b[0;31m           outputs = execute.execute(\n\u001b[0m\u001b[1;32m    556\u001b[0m               \u001b[0mstr\u001b[0m\u001b[0;34m(\u001b[0m\u001b[0mself\u001b[0m\u001b[0;34m.\u001b[0m\u001b[0msignature\u001b[0m\u001b[0;34m.\u001b[0m\u001b[0mname\u001b[0m\u001b[0;34m)\u001b[0m\u001b[0;34m,\u001b[0m\u001b[0;34m\u001b[0m\u001b[0;34m\u001b[0m\u001b[0m\n\u001b[1;32m    557\u001b[0m               \u001b[0mnum_outputs\u001b[0m\u001b[0;34m=\u001b[0m\u001b[0mself\u001b[0m\u001b[0;34m.\u001b[0m\u001b[0m_num_outputs\u001b[0m\u001b[0;34m,\u001b[0m\u001b[0;34m\u001b[0m\u001b[0;34m\u001b[0m\u001b[0m\n",
      "\u001b[0;32m~/tensorflow/venv/lib/python3.8/site-packages/tensorflow/python/eager/execute.py\u001b[0m in \u001b[0;36mquick_execute\u001b[0;34m(op_name, num_outputs, inputs, attrs, ctx, name)\u001b[0m\n\u001b[1;32m     57\u001b[0m   \u001b[0;32mtry\u001b[0m\u001b[0;34m:\u001b[0m\u001b[0;34m\u001b[0m\u001b[0;34m\u001b[0m\u001b[0m\n\u001b[1;32m     58\u001b[0m     \u001b[0mctx\u001b[0m\u001b[0;34m.\u001b[0m\u001b[0mensure_initialized\u001b[0m\u001b[0;34m(\u001b[0m\u001b[0;34m)\u001b[0m\u001b[0;34m\u001b[0m\u001b[0;34m\u001b[0m\u001b[0m\n\u001b[0;32m---> 59\u001b[0;31m     tensors = pywrap_tfe.TFE_Py_Execute(ctx._handle, device_name, op_name,\n\u001b[0m\u001b[1;32m     60\u001b[0m                                         inputs, attrs, num_outputs)\n\u001b[1;32m     61\u001b[0m   \u001b[0;32mexcept\u001b[0m \u001b[0mcore\u001b[0m\u001b[0;34m.\u001b[0m\u001b[0m_NotOkStatusException\u001b[0m \u001b[0;32mas\u001b[0m \u001b[0me\u001b[0m\u001b[0;34m:\u001b[0m\u001b[0;34m\u001b[0m\u001b[0;34m\u001b[0m\u001b[0m\n",
      "\u001b[0;31mKeyboardInterrupt\u001b[0m: "
     ]
    }
   ],
   "source": [
    "reduce_lr = tf.keras.callbacks.ReduceLROnPlateau(monitor='val_loss', factor=0.8,\n",
    "                              patience=3, min_lr=1e-5, verbose=1)\n",
    "\n",
    "\n",
    "history = model.fit(train_data_batches,\n",
    "                  epochs = 60, \n",
    "                  validation_data=valid_data_batches,\n",
    "                  callbacks=[reduce_lr])"
   ]
  },
  {
   "cell_type": "code",
   "execution_count": null,
   "metadata": {
    "colab": {
     "base_uri": "https://localhost:8080/",
     "height": 369
    },
    "executionInfo": {
     "elapsed": 1086,
     "status": "ok",
     "timestamp": 1629190045360,
     "user": {
      "displayName": "Swap vi",
      "photoUrl": "",
      "userId": "01936573407644251994"
     },
     "user_tz": -120
    },
    "id": "AwU9G_ZzOwRS",
    "outputId": "2d7f9c8c-34b3-4462-a9f1-75778040f52c"
   },
   "outputs": [],
   "source": [
    "### Plot train and validation curves\n",
    "loss = history.history['loss']\n",
    "v_loss = history.history['val_loss']\n",
    "\n",
    "acc = history.history['acc']\n",
    "v_acc = history.history['val_acc']\n",
    "\n",
    "epochs = range(len(loss))\n",
    "\n",
    "fig = plt.figure(figsize=(9, 5))\n",
    "plt.subplot(1, 2, 1)\n",
    "plt.yscale('log')\n",
    "plt.plot(epochs, loss, linestyle='--', linewidth=3, color='orange', alpha=0.7, label='Train Loss')\n",
    "plt.plot(epochs, v_loss, linestyle='-.', linewidth=2, color='lime', alpha=0.8, label='Valid Loss')\n",
    "plt.xlabel('Epochs', fontsize=11)\n",
    "plt.ylabel('Loss', fontsize=12)\n",
    "plt.legend(fontsize=12)\n",
    "plt.subplot(1, 2, 2)\n",
    "plt.plot(epochs, acc, linestyle='--', linewidth=3, color='orange', alpha=0.7, label='Train Acc')\n",
    "plt.plot(epochs, v_acc, linestyle='-.', linewidth=2, color='lime', alpha=0.8, label='Valid Acc') \n",
    "plt.xlabel('Epochs', fontsize=11)\n",
    "plt.ylabel('Accuracy', fontsize=12)\n",
    "plt.legend(fontsize=12)\n",
    "plt.tight_layout()\n",
    "plt.show()"
   ]
  },
  {
   "cell_type": "code",
   "execution_count": null,
   "metadata": {
    "colab": {
     "base_uri": "https://localhost:8080/"
    },
    "executionInfo": {
     "elapsed": 4849,
     "status": "ok",
     "timestamp": 1629190057626,
     "user": {
      "displayName": "Swap vi",
      "photoUrl": "",
      "userId": "01936573407644251994"
     },
     "user_tz": -120
    },
    "id": "RHnwxMg9ayQs",
    "outputId": "ebd37f93-06d7-4464-f10b-0d8fa7a0f335"
   },
   "outputs": [],
   "source": [
    "test_data_batches = test_data.shuffle(buffer_size=10000).batch(32).prefetch(buffer_size=autotune)\n",
    "\n",
    "\n",
    "results = model.evaluate(test_data_batches)\n",
    "print (\"test loss, test acc:\", results)"
   ]
  },
  {
   "cell_type": "code",
   "execution_count": null,
   "metadata": {
    "id": "xiVMlgPvdqKl"
   },
   "outputs": [],
   "source": [
    "from sklearn.metrics import confusion_matrix, classification_report\n",
    "import seaborn as sns\n",
    "\n",
    "def conf_matrix(predictions): \n",
    "    ''' Plots conf. matrix and classification report '''\n",
    "    cm=confusion_matrix(y_test, np.argmax(np.round(predictions), axis=1))\n",
    "    print(\"Classification Report:\\n\")\n",
    "    cr=classification_report(y_test,\n",
    "                                np.argmax(np.round(predictions), axis=1), \n",
    "                                target_names=[class_types[i] for i in range(len(class_types))])\n",
    "    print(cr)\n",
    "    plt.figure(figsize=(12,12))\n",
    "    sns_hmp = sns.heatmap(cm, annot=True, xticklabels = [class_types[i] for i in range(len(class_types))], \n",
    "                yticklabels = [class_types[i] for i in range(len(class_types))], fmt=\"d\")\n",
    "    fig = sns_hmp.get_figure()\n",
    "    # fig.savefig('/content/gdrive/My Drive/Colab Notebooks/resnet/heatmap.png', dpi=250)"
   ]
  },
  {
   "cell_type": "code",
   "execution_count": null,
   "metadata": {
    "colab": {
     "base_uri": "https://localhost:8080/",
     "height": 1000
    },
    "executionInfo": {
     "elapsed": 7158,
     "status": "ok",
     "timestamp": 1629190075203,
     "user": {
      "displayName": "Swap vi",
      "photoUrl": "",
      "userId": "01936573407644251994"
     },
     "user_tz": -120
    },
    "id": "Rr_ebKZyejqn",
    "outputId": "114cf449-2e70-43da-d135-b3d52cb84aeb"
   },
   "outputs": [],
   "source": [
    "pred_class_resnet50 = model.predict(x_test)\n",
    "\n",
    "conf_matrix(pred_class_resnet50)"
   ]
  },
  {
   "cell_type": "code",
   "execution_count": null,
   "metadata": {
    "id": "4a7gs3kOeo_5"
   },
   "outputs": [],
   "source": []
  }
 ],
 "metadata": {
  "accelerator": "GPU",
  "colab": {
   "authorship_tag": "ABX9TyPE5ooj+PHoblQLBUS31AoM",
   "collapsed_sections": [],
   "name": "TF_Data_Intro.ipynb",
   "provenance": []
  },
  "kernelspec": {
   "display_name": "Python 3 (ipykernel)",
   "language": "python",
   "name": "python3"
  },
  "language_info": {
   "codemirror_mode": {
    "name": "ipython",
    "version": 3
   },
   "file_extension": ".py",
   "mimetype": "text/x-python",
   "name": "python",
   "nbconvert_exporter": "python",
   "pygments_lexer": "ipython3",
   "version": "3.8.10"
  }
 },
 "nbformat": 4,
 "nbformat_minor": 1
}
